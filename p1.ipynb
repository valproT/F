{
  "nbformat": 4,
  "nbformat_minor": 0,
  "metadata": {
    "colab": {
      "provenance": [],
      "authorship_tag": "ABX9TyPsw/zKj22xdDA1pxpqAbkt"
    },
    "kernelspec": {
      "name": "python3",
      "display_name": "Python 3"
    },
    "language_info": {
      "name": "python"
    }
  },
  "cells": [
    {
      "cell_type": "code",
      "execution_count": null,
      "metadata": {
        "colab": {
          "base_uri": "https://localhost:8080/"
        },
        "id": "OmjZZksQ8kDB",
        "outputId": "09670865-ae24-422a-f2aa-bf3ea5b3ea7d"
      },
      "outputs": [
        {
          "output_type": "stream",
          "name": "stdout",
          "text": [
            "AND gate predictions:\n",
            "Input: [0 0] - Prediction: 0\n",
            "Input: [0 1] - Prediction: 0\n",
            "Input: [1 0] - Prediction: 0\n",
            "Input: [1 1] - Prediction: 1\n",
            "\n",
            "OR gate predictions:\n",
            "Input: [0 0] - Prediction: 0\n",
            "Input: [0 1] - Prediction: 1\n",
            "Input: [1 0] - Prediction: 1\n",
            "Input: [1 1] - Prediction: 1\n"
          ]
        }
      ],
      "source": [
        "import numpy as np\n",
        "\n",
        "class Perceptron:\n",
        "    def __init__(self, learning_rate=0.1, epochs=100):\n",
        "        self.learning_rate = learning_rate\n",
        "        self.epochs = epochs\n",
        "        self.weights = None\n",
        "        self.bias = None\n",
        "\n",
        "    def sigmoid(self, x):\n",
        "        return 1 / (1 + np.exp(-x))\n",
        "\n",
        "    def predict(self, x):\n",
        "        linear_output = np.dot(x, self.weights) + self.bias\n",
        "        return self.sigmoid(linear_output)\n",
        "\n",
        "    def fit(self, x, y):\n",
        "        num_samples, num_features = x.shape\n",
        "        self.weights = np.zeros(num_features)\n",
        "        self.bias = 0\n",
        "\n",
        "        for _ in range(self.epochs):\n",
        "            for idx, sample in enumerate(x):\n",
        "                linear_output = np.dot(sample, self.weights) + self.bias\n",
        "                y_predicted = self.sigmoid(linear_output)\n",
        "\n",
        "                # Calculate the error\n",
        "                error = y[idx] - y_predicted\n",
        "\n",
        "                # Update weights and bias\n",
        "                self.weights += self.learning_rate * error * y_predicted * (1 - y_predicted) * sample\n",
        "                self.bias += self.learning_rate * error * y_predicted * (1 - y_predicted)\n",
        "\n",
        "# AND gate data\n",
        "x_and = np.array([[0, 0],\n",
        "                  [0, 1],\n",
        "                  [1, 0],\n",
        "                  [1, 1]])\n",
        "y_and = np.array([0, 0, 0, 1])  # AND outputs\n",
        "\n",
        "# OR gate data\n",
        "x_or = np.array([[0, 0],\n",
        "                 [0, 1],\n",
        "                 [1, 0],\n",
        "                 [1, 1]])\n",
        "y_or = np.array([0, 1, 1, 1])  # OR outputs\n",
        "\n",
        "# Create and train the perceptron for AND gate\n",
        "perceptron_and = Perceptron(learning_rate=0.1, epochs=1000)\n",
        "perceptron_and.fit(x_and, y_and)\n",
        "\n",
        "# Test the AND gate\n",
        "print(\"AND gate predictions:\")\n",
        "for i in range(len(x_and)):\n",
        "    prediction = perceptron_and.predict(x_and[i])\n",
        "    print(f\"Input: {x_and[i]} - Prediction: {1 if prediction >= 0.5 else 0}\")\n",
        "\n",
        "# Create and train the perceptron for OR gate\n",
        "perceptron_or = Perceptron(learning_rate=0.1, epochs=1000)\n",
        "perceptron_or.fit(x_or, y_or)\n",
        "\n",
        "# Test the OR gate\n",
        "print(\"\\nOR gate predictions:\")\n",
        "for i in range(len(x_or)):\n",
        "    prediction = perceptron_or.predict(x_or[i])\n",
        "    print(f\"Input: {x_or[i]} - Prediction: {1 if prediction >= 0.5 else 0}\")"
      ]
    }
  ]
}